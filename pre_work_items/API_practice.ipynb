{
  "nbformat": 4,
  "nbformat_minor": 0,
  "metadata": {
    "colab": {
      "provenance": [],
      "authorship_tag": "ABX9TyOcLEhHA5nkXVKxlFYCEkp0",
      "include_colab_link": true
    },
    "kernelspec": {
      "name": "python3",
      "display_name": "Python 3"
    },
    "language_info": {
      "name": "python"
    }
  },
  "cells": [
    {
      "cell_type": "markdown",
      "metadata": {
        "id": "view-in-github",
        "colab_type": "text"
      },
      "source": [
        "<a href=\"https://colab.research.google.com/github/plymburner/World_Weather_Analysis/blob/main/API_practice.ipynb\" target=\"_parent\"><img src=\"https://colab.research.google.com/assets/colab-badge.svg\" alt=\"Open In Colab\"/></a>"
      ]
    },
    {
      "cell_type": "code",
      "execution_count": 1,
      "metadata": {
        "id": "coeQ4MmRzL0-"
      },
      "outputs": [],
      "source": [
        "# Create a practice set of random latitude and longitude combinations.\n",
        "lats = [25.12903645, 25.92017388, 26.62509167, -59.98969384, 37.30571269]\n",
        "lngs = [-67.59741259, 11.09532135, 74.84233102, -76.89176677, -61.13376282]\n",
        "lat_lngs = zip(lats, lngs)"
      ]
    },
    {
      "cell_type": "code",
      "source": [
        "pip install citipy"
      ],
      "metadata": {
        "colab": {
          "base_uri": "https://localhost:8080/"
        },
        "id": "54OZfgDw2pcQ",
        "outputId": "39cc0be5-3895-4df3-ae5a-bc96e96df5c8"
      },
      "execution_count": 2,
      "outputs": [
        {
          "output_type": "stream",
          "name": "stdout",
          "text": [
            "Looking in indexes: https://pypi.org/simple, https://us-python.pkg.dev/colab-wheels/public/simple/\n",
            "Collecting citipy\n",
            "  Downloading citipy-0.0.5.tar.gz (557 kB)\n",
            "\u001b[K     |████████████████████████████████| 557 kB 29.0 MB/s \n",
            "\u001b[?25hCollecting kdtree>=0.12\n",
            "  Downloading kdtree-0.16-py2.py3-none-any.whl (7.7 kB)\n",
            "Building wheels for collected packages: citipy\n",
            "  Building wheel for citipy (setup.py) ... \u001b[?25l\u001b[?25hdone\n",
            "  Created wheel for citipy: filename=citipy-0.0.5-py3-none-any.whl size=559699 sha256=63bcb80491ba99c81c7ee8d3c521712ff967a7aff5ed6daf38e3728274d6f2df\n",
            "  Stored in directory: /root/.cache/pip/wheels/72/ae/63/5d03cf6dfe5c0e9328fb73f8b30da1948a06b9cceaf2c68d2d\n",
            "Successfully built citipy\n",
            "Installing collected packages: kdtree, citipy\n",
            "Successfully installed citipy-0.0.5 kdtree-0.16\n"
          ]
        }
      ]
    },
    {
      "cell_type": "code",
      "source": [
        "# Use the citipy module to determine city based on latitude and longitude.\n",
        "from citipy import citipy"
      ],
      "metadata": {
        "id": "Fl5HVgy02qTt"
      },
      "execution_count": 3,
      "outputs": []
    },
    {
      "cell_type": "code",
      "source": [
        "# Use the print() function to display the latitude and longitude combinations.\n",
        "for coordinate in coordinates:\n",
        "    print(citipy.nearest_city(coordinate[0], coordinate[1]).city_name,\n",
        "          citipy.nearest_city(coordinate[0], coordinate[1]).country_code)"
      ],
      "metadata": {
        "colab": {
          "base_uri": "https://localhost:8080/",
          "height": 217
        },
        "id": "RhiMu5ne2wbX",
        "outputId": "bea485ed-1d29-421a-de3b-a0cf44e63c5b"
      },
      "execution_count": 4,
      "outputs": [
        {
          "output_type": "error",
          "ename": "NameError",
          "evalue": "ignored",
          "traceback": [
            "\u001b[0;31m---------------------------------------------------------------------------\u001b[0m",
            "\u001b[0;31mNameError\u001b[0m                                 Traceback (most recent call last)",
            "\u001b[0;32m<ipython-input-4-c2b2613c690b>\u001b[0m in \u001b[0;36m<module>\u001b[0;34m\u001b[0m\n\u001b[1;32m      1\u001b[0m \u001b[0;31m# Use the print() function to display the latitude and longitude combinations.\u001b[0m\u001b[0;34m\u001b[0m\u001b[0;34m\u001b[0m\u001b[0;34m\u001b[0m\u001b[0m\n\u001b[0;32m----> 2\u001b[0;31m \u001b[0;32mfor\u001b[0m \u001b[0mcoordinate\u001b[0m \u001b[0;32min\u001b[0m \u001b[0mcoordinates\u001b[0m\u001b[0;34m:\u001b[0m\u001b[0;34m\u001b[0m\u001b[0;34m\u001b[0m\u001b[0m\n\u001b[0m\u001b[1;32m      3\u001b[0m     print(citipy.nearest_city(coordinate[0], coordinate[1]).city_name,\n\u001b[1;32m      4\u001b[0m           citipy.nearest_city(coordinate[0], coordinate[1]).country_code)\n",
            "\u001b[0;31mNameError\u001b[0m: name 'coordinates' is not defined"
          ]
        }
      ]
    }
  ]
}