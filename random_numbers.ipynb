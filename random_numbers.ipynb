{
  "cells": [
    {
      "cell_type": "code",
      "execution_count": 1,
      "metadata": {
        "id": "3cJgxB0VqtqZ"
      },
      "outputs": [],
      "source": [
        "# Import the random module.\n",
        "import random"
      ]
    },
    {
      "cell_type": "code",
      "source": [
        "x = 1\n",
        "latitudes = []\n",
        "while x < 11:\n",
        "    random_lat = random.randint(-90, 89) + random.random()\n",
        "    latitudes.append(random_lat)\n",
        "    x += 1"
      ],
      "metadata": {
        "id": "1CRQI7B7q3X0"
      },
      "execution_count": 2,
      "outputs": []
    }
  ],
  "metadata": {
    "language_info": {
      "name": "python"
    },
    "orig_nbformat": 4,
    "colab": {
      "provenance": []
    },
    "kernelspec": {
      "name": "python3",
      "display_name": "Python 3"
    },
    "gpuClass": "standard"
  },
  "nbformat": 4,
  "nbformat_minor": 0
}